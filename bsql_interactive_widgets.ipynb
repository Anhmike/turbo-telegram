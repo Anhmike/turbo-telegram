{
 "cells": [
  {
   "cell_type": "code",
   "execution_count": 1,
   "metadata": {},
   "outputs": [],
   "source": [
    "import ipywidgets as widgets"
   ]
  },
  {
   "cell_type": "code",
   "execution_count": 2,
   "metadata": {},
   "outputs": [
    {
     "data": {
      "application/vnd.jupyter.widget-view+json": {
       "model_id": "1b116e44d58e464aa97af23da755ccc8",
       "version_major": 2,
       "version_minor": 0
      },
      "text/plain": [
       "IntSlider(value=3, description='Slider:', max=10)"
      ]
     },
     "metadata": {},
     "output_type": "display_data"
    }
   ],
   "source": [
    "widgets.IntSlider(min=0, max=10, step=1, \n",
    "                  description='Slider:', value=3)"
   ]
  },
  {
   "cell_type": "code",
   "execution_count": 3,
   "metadata": {},
   "outputs": [],
   "source": [
    "# The display() function renders a widget object in an input cell.\n",
    "from IPython.display import display"
   ]
  },
  {
   "cell_type": "code",
   "execution_count": 4,
   "metadata": {},
   "outputs": [
    {
     "data": {
      "application/vnd.jupyter.widget-view+json": {
       "model_id": "488ff360500f46b28f9797a108e705eb",
       "version_major": 2,
       "version_minor": 0
      },
      "text/plain": [
       "IntSlider(value=0)"
      ]
     },
     "metadata": {},
     "output_type": "display_data"
    }
   ],
   "source": [
    "# Then pass the widget as a parameter in the display() function:\n",
    "slider = widgets.IntSlider()\n",
    "display(slider)"
   ]
  },
  {
   "cell_type": "code",
   "execution_count": 5,
   "metadata": {},
   "outputs": [
    {
     "data": {
      "text/plain": [
       "0"
      ]
     },
     "execution_count": 5,
     "metadata": {},
     "output_type": "execute_result"
    }
   ],
   "source": [
    "# To read the value of a widget, we will query its value property. Similarly, we can set a widget’s value:\n",
    "slider.value"
   ]
  },
  {
   "cell_type": "code",
   "execution_count": 6,
   "metadata": {},
   "outputs": [
    {
     "data": {
      "application/vnd.jupyter.widget-view+json": {
       "model_id": "11bbebd2d3bf4a2ea4dd621b138e7fa5",
       "version_major": 2,
       "version_minor": 0
      },
      "text/plain": [
       "IntSlider(value=0)"
      ]
     },
     "metadata": {},
     "output_type": "display_data"
    },
    {
     "data": {
      "application/vnd.jupyter.widget-view+json": {
       "model_id": "b60063c32a8a4cadbd07e1c0e3fdecd7",
       "version_major": 2,
       "version_minor": 0
      },
      "text/plain": [
       "IntText(value=0)"
      ]
     },
     "metadata": {},
     "output_type": "display_data"
    },
    {
     "data": {
      "text/plain": [
       "Link(source=(IntSlider(value=0), 'value'), target=(IntText(value=0), 'value'))"
      ]
     },
     "metadata": {},
     "output_type": "display_data"
    }
   ],
   "source": [
    "# We can synchronise the values of two widgets by using the jslink() function.\n",
    "slider = widgets.IntSlider()\n",
    "text = widgets.IntText()\n",
    "display(slider, text)\n",
    "widgets.jslink((slider, 'value'), (text, 'value'))"
   ]
  },
  {
   "cell_type": "code",
   "execution_count": 7,
   "metadata": {},
   "outputs": [
    {
     "data": {
      "text/plain": [
       "['Accordion',\n",
       " 'AppLayout',\n",
       " 'Audio',\n",
       " 'BoundedFloatText',\n",
       " 'BoundedIntText',\n",
       " 'Box',\n",
       " 'Button',\n",
       " 'ButtonStyle',\n",
       " 'CallbackDispatcher',\n",
       " 'Checkbox',\n",
       " 'Color',\n",
       " 'ColorPicker',\n",
       " 'Combobox',\n",
       " 'Controller',\n",
       " 'CoreWidget',\n",
       " 'DOMWidget',\n",
       " 'DatePicker',\n",
       " 'Datetime',\n",
       " 'Dropdown',\n",
       " 'FileUpload',\n",
       " 'FloatLogSlider',\n",
       " 'FloatProgress',\n",
       " 'FloatRangeSlider',\n",
       " 'FloatSlider',\n",
       " 'FloatText',\n",
       " 'GridBox',\n",
       " 'GridspecLayout',\n",
       " 'HBox',\n",
       " 'HTML',\n",
       " 'HTMLMath',\n",
       " 'Image',\n",
       " 'IntProgress',\n",
       " 'IntRangeSlider',\n",
       " 'IntSlider',\n",
       " 'IntText',\n",
       " 'Label',\n",
       " 'Layout',\n",
       " 'NumberFormat',\n",
       " 'Output',\n",
       " 'Password',\n",
       " 'Play',\n",
       " 'RadioButtons',\n",
       " 'Select',\n",
       " 'SelectMultiple',\n",
       " 'SelectionRangeSlider',\n",
       " 'SelectionSlider',\n",
       " 'SliderStyle',\n",
       " 'Style',\n",
       " 'Tab',\n",
       " 'Text',\n",
       " 'Textarea',\n",
       " 'ToggleButton',\n",
       " 'ToggleButtons',\n",
       " 'ToggleButtonsStyle',\n",
       " 'TwoByTwoLayout',\n",
       " 'VBox',\n",
       " 'Valid',\n",
       " 'ValueWidget',\n",
       " 'Video',\n",
       " 'Widget',\n",
       " '__builtins__',\n",
       " '__cached__',\n",
       " '__doc__',\n",
       " '__file__',\n",
       " '__jupyter_widgets_base_version__',\n",
       " '__jupyter_widgets_controls_version__',\n",
       " '__loader__',\n",
       " '__name__',\n",
       " '__package__',\n",
       " '__path__',\n",
       " '__protocol_version__',\n",
       " '__spec__',\n",
       " '__version__',\n",
       " '_handle_ipython',\n",
       " '_version',\n",
       " 'dlink',\n",
       " 'docutils',\n",
       " 'domwidget',\n",
       " 'fixed',\n",
       " 'get_ipython',\n",
       " 'handle_kernel',\n",
       " 'interact',\n",
       " 'interact_manual',\n",
       " 'interaction',\n",
       " 'interactive',\n",
       " 'interactive_output',\n",
       " 'jsdlink',\n",
       " 'jslink',\n",
       " 'link',\n",
       " 'load_ipython_extension',\n",
       " 'os',\n",
       " 'register',\n",
       " 'register_comm_target',\n",
       " 'trait_types',\n",
       " 'util',\n",
       " 'valuewidget',\n",
       " 'version_info',\n",
       " 'widget',\n",
       " 'widget_bool',\n",
       " 'widget_box',\n",
       " 'widget_button',\n",
       " 'widget_color',\n",
       " 'widget_controller',\n",
       " 'widget_core',\n",
       " 'widget_date',\n",
       " 'widget_description',\n",
       " 'widget_float',\n",
       " 'widget_int',\n",
       " 'widget_layout',\n",
       " 'widget_link',\n",
       " 'widget_media',\n",
       " 'widget_output',\n",
       " 'widget_selection',\n",
       " 'widget_selectioncontainer',\n",
       " 'widget_serialization',\n",
       " 'widget_string',\n",
       " 'widget_style',\n",
       " 'widget_templates',\n",
       " 'widget_upload',\n",
       " 'widgets']"
      ]
     },
     "execution_count": 7,
     "metadata": {},
     "output_type": "execute_result"
    }
   ],
   "source": [
    "# For a full list of widgets you can check out the documentation, or run the following command:\n",
    "dir(widgets)"
   ]
  },
  {
   "cell_type": "markdown",
   "metadata": {},
   "source": [
    "## ❷ Handling Widget Events\n",
    "- Event handler is a callback function in response to an event, that operates asynchronously and handles the inputs received.\n",
    "- Here we will create a simple button called btn. The on_click method is invoked when the button is clicked.\n",
    "    - Our event handler, btn_eventhandler, will print a short message with the button’s caption — note that the input argument of the handler, obj, is the button object itself which allows us to access its properties.\n",
    "    - To bind the event with the handler, we assign the latter to the button’s on_click method.\n"
   ]
  },
  {
   "cell_type": "code",
   "execution_count": 8,
   "metadata": {},
   "outputs": [
    {
     "data": {
      "application/vnd.jupyter.widget-view+json": {
       "model_id": "9df051f71bd9488b98ee971493a0bbf4",
       "version_major": 2,
       "version_minor": 0
      },
      "text/plain": [
       "Button(description='Medium', style=ButtonStyle())"
      ]
     },
     "metadata": {},
     "output_type": "display_data"
    }
   ],
   "source": [
    "btn = widgets.Button(description='Medium')\n",
    "display(btn)\n",
    "def btn_eventhandler(obj):\n",
    "    print(f'Hello from the {obj.description} button!')\n",
    "# each time button is clicked\n",
    "btn.on_click(btn_eventhandler)"
   ]
  },
  {
   "cell_type": "markdown",
   "metadata": {},
   "source": [
    "## ❸ Controlling Widget Output\n",
    "- In this section we will explore how to use widgets to control a dataframe. \n",
    "- The sample dataset I have chosen is ‘Number of International Visitors to London’ \n",
    "    - which shows totals of London’s visitors with regards to \n",
    "        -nights, \n",
    "        - visits \n",
    "        - and spend, \n",
    "            - broken down by \n",
    "                - year, \n",
    "                - quarter, \n",
    "                - purpose, \n",
    "                - duration, \n",
    "                - mode \n",
    "                - and country."
   ]
  },
  {
   "cell_type": "code",
   "execution_count": 3,
   "metadata": {},
   "outputs": [
    {
     "data": {
      "text/plain": [
       "'/Users/winston/programming/self/turbo-telegram'"
      ]
     },
     "execution_count": 3,
     "metadata": {},
     "output_type": "execute_result"
    }
   ],
   "source": [
    "\n",
    "cwd"
   ]
  },
  {
   "cell_type": "code",
   "execution_count": null,
   "metadata": {},
   "outputs": [],
   "source": [
    "# import pandas as pd\n",
    "# import numpy as np\n",
    "import os\n",
    "from blazingsql import BlazingContext\n",
    "bc = BlazingContext()"
   ]
  },
  {
   "cell_type": "code",
   "execution_count": 2,
   "metadata": {},
   "outputs": [
    {
     "data": {
      "text/plain": [
       "'/home/winston/turbo-telegram/international-visitors-london-raw.csv'"
      ]
     },
     "execution_count": 2,
     "metadata": {},
     "output_type": "execute_result"
    }
   ],
   "source": [
    "# download dataset\n",
    "!wget \"https://data.london.gov.uk/download/number-international-visitors-london/b1e0f953-4c8a-4b45-95f5-e0d143d5641e/international-visitors-london-raw.csv\"\n",
    "# tag current working directory (file path)\n",
    "cwd = os.getcwd()\n",
    "# tag dataset's file path\n",
    "path = cwd + '/international-visitors-london-raw.csv'\n",
    "# what's it look like?\n",
    "path"
   ]
  },
  {
   "cell_type": "code",
   "execution_count": 12,
   "metadata": {},
   "outputs": [
    {
     "data": {
      "text/html": [
       "<div>\n",
       "<style scoped>\n",
       "    .dataframe tbody tr th:only-of-type {\n",
       "        vertical-align: middle;\n",
       "    }\n",
       "\n",
       "    .dataframe tbody tr th {\n",
       "        vertical-align: top;\n",
       "    }\n",
       "\n",
       "    .dataframe thead th {\n",
       "        text-align: right;\n",
       "    }\n",
       "</style>\n",
       "<table border=\"1\" class=\"dataframe\">\n",
       "  <thead>\n",
       "    <tr style=\"text-align: right;\">\n",
       "      <th></th>\n",
       "      <th>year</th>\n",
       "      <th>quarter</th>\n",
       "      <th>market</th>\n",
       "      <th>dur_stay</th>\n",
       "      <th>mode</th>\n",
       "      <th>purpose</th>\n",
       "      <th>area</th>\n",
       "      <th>visits</th>\n",
       "      <th>spend</th>\n",
       "      <th>nights</th>\n",
       "      <th>sample</th>\n",
       "    </tr>\n",
       "  </thead>\n",
       "  <tbody>\n",
       "    <tr>\n",
       "      <th>0</th>\n",
       "      <td>2002</td>\n",
       "      <td>Q1</td>\n",
       "      <td>Belgium</td>\n",
       "      <td>1-3  nights</td>\n",
       "      <td>Air</td>\n",
       "      <td>Holiday</td>\n",
       "      <td>LONDON</td>\n",
       "      <td>3.572186</td>\n",
       "      <td>0.969138</td>\n",
       "      <td>6.954456</td>\n",
       "      <td>5</td>\n",
       "    </tr>\n",
       "    <tr>\n",
       "      <th>1</th>\n",
       "      <td>2002</td>\n",
       "      <td>Q1</td>\n",
       "      <td>Belgium</td>\n",
       "      <td>1-3  nights</td>\n",
       "      <td>Air</td>\n",
       "      <td>Business</td>\n",
       "      <td>LONDON</td>\n",
       "      <td>9.284226</td>\n",
       "      <td>2.399577</td>\n",
       "      <td>12.604959</td>\n",
       "      <td>19</td>\n",
       "    </tr>\n",
       "  </tbody>\n",
       "</table>\n",
       "</div>"
      ],
      "text/plain": [
       "   year quarter   market     dur_stay mode   purpose     area    visits  \\\n",
       "0  2002      Q1  Belgium  1-3  nights  Air   Holiday   LONDON  3.572186   \n",
       "1  2002      Q1  Belgium  1-3  nights  Air  Business   LONDON  9.284226   \n",
       "\n",
       "      spend     nights  sample  \n",
       "0  0.969138   6.954456       5  \n",
       "1  2.399577  12.604959      19  "
      ]
     },
     "execution_count": 12,
     "metadata": {},
     "output_type": "execute_result"
    }
   ],
   "source": [
    "pd.read_csv('international-visitors-london-raw.csv').head(2)"
   ]
  },
  {
   "cell_type": "markdown",
   "metadata": {},
   "source": [
    "# WITH BLAZINGSQL"
   ]
  },
  {
   "cell_type": "code",
   "execution_count": 1,
   "metadata": {},
   "outputs": [
    {
     "ename": "ModuleNotFoundError",
     "evalue": "No module named 'seaborn'",
     "output_type": "error",
     "traceback": [
      "\u001b[0;31m---------------------------------------------------------------------------\u001b[0m",
      "\u001b[0;31mModuleNotFoundError\u001b[0m                       Traceback (most recent call last)",
      "\u001b[0;32m<ipython-input-1-e2b01b665f3d>\u001b[0m in \u001b[0;36m<module>\u001b[0;34m\u001b[0m\n\u001b[1;32m      1\u001b[0m \u001b[0;32mimport\u001b[0m \u001b[0mos\u001b[0m\u001b[0;34m\u001b[0m\u001b[0;34m\u001b[0m\u001b[0m\n\u001b[1;32m      2\u001b[0m \u001b[0;32mimport\u001b[0m \u001b[0mnumpy\u001b[0m \u001b[0;32mas\u001b[0m \u001b[0mnp\u001b[0m\u001b[0;34m\u001b[0m\u001b[0;34m\u001b[0m\u001b[0m\n\u001b[0;32m----> 3\u001b[0;31m \u001b[0;32mimport\u001b[0m \u001b[0mseaborn\u001b[0m \u001b[0;32mas\u001b[0m \u001b[0msns\u001b[0m\u001b[0;34m\u001b[0m\u001b[0;34m\u001b[0m\u001b[0m\n\u001b[0m\u001b[1;32m      4\u001b[0m \u001b[0;32mimport\u001b[0m \u001b[0mipywidgets\u001b[0m \u001b[0;32mas\u001b[0m \u001b[0mwidgets\u001b[0m\u001b[0;34m\u001b[0m\u001b[0;34m\u001b[0m\u001b[0m\n\u001b[1;32m      5\u001b[0m \u001b[0;32mimport\u001b[0m \u001b[0mmatplotlib\u001b[0m\u001b[0;34m.\u001b[0m\u001b[0mpyplot\u001b[0m \u001b[0;32mas\u001b[0m \u001b[0mplt\u001b[0m\u001b[0;34m\u001b[0m\u001b[0;34m\u001b[0m\u001b[0m\n",
      "\u001b[0;31mModuleNotFoundError\u001b[0m: No module named 'seaborn'"
     ]
    }
   ],
   "source": [
    "import os\n",
    "import numpy as np\n",
    "import seaborn as sns\n",
    "import ipywidgets as widgets\n",
    "import matplotlib.pyplot as plt\n",
    "from IPython.display import display\n",
    "from blazingsql import BlazingContext"
   ]
  },
  {
   "cell_type": "code",
   "execution_count": 4,
   "metadata": {},
   "outputs": [
    {
     "name": "stdout",
     "output_type": "stream",
     "text": [
      "BlazingContext ready\n"
     ]
    }
   ],
   "source": [
    "# start up BlazingSQL\n",
    "bc = BlazingContext()\n",
    "\n",
    "# tag dataset's file path\n",
    "cwd = os.getcwd()  # path to this notebook\n",
    "path = cwd + '/international-visitors-london-raw.csv'"
   ]
  },
  {
   "cell_type": "code",
   "execution_count": 14,
   "metadata": {},
   "outputs": [
    {
     "data": {
      "text/plain": [
       "<pyblazing.apiv2.context.BlazingTable at 0x7f214018a278>"
      ]
     },
     "execution_count": 14,
     "metadata": {},
     "output_type": "execute_result"
    }
   ],
   "source": [
    "# create base table\n",
    "columns = ['ds', 'quarter', 'market', 'dur_stay', 'mode', 'purpose', \n",
    "           'area', 'visits', 'spend', 'nights', 'sample']\n",
    "bc.create_table('ivlondon', path, names=columns)"
   ]
  },
  {
   "cell_type": "code",
   "execution_count": 15,
   "metadata": {},
   "outputs": [],
   "source": [
    "# Firstly we need a common output for both dropdowns:\n",
    "output = widgets.Output()\n",
    "# Continuing the previous use-case, we will capture the plot in a new output variable:\n",
    "plot_output = widgets.Output()"
   ]
  },
  {
   "cell_type": "code",
   "execution_count": 16,
   "metadata": {},
   "outputs": [],
   "source": [
    "ALL = 'ALL'\n",
    "def unique_sorted_values_plus_ALL(array):\n",
    "    unique = array.unique().tolist()\n",
    "    unique.sort()\n",
    "    unique.insert(0, ALL)\n",
    "    return unique"
   ]
  },
  {
   "cell_type": "code",
   "execution_count": 17,
   "metadata": {},
   "outputs": [
    {
     "ename": "AttributeError",
     "evalue": "'DataFrame' object has no attribute 'year'",
     "output_type": "error",
     "traceback": [
      "\u001b[0;31m---------------------------------------------------------------------------\u001b[0m",
      "\u001b[0;31mAttributeError\u001b[0m                            Traceback (most recent call last)",
      "\u001b[0;32m<ipython-input-17-037e83490bd7>\u001b[0m in \u001b[0;36m<module>\u001b[0;34m\u001b[0m\n\u001b[1;32m      1\u001b[0m \u001b[0;31m# Here are the two dropdowns:\u001b[0m\u001b[0;34m\u001b[0m\u001b[0;34m\u001b[0m\u001b[0;34m\u001b[0m\u001b[0m\n\u001b[1;32m      2\u001b[0m \u001b[0mgdf_london\u001b[0m \u001b[0;34m=\u001b[0m \u001b[0mbc\u001b[0m\u001b[0;34m.\u001b[0m\u001b[0msql\u001b[0m\u001b[0;34m(\u001b[0m\u001b[0;34m'select * from ivlondon'\u001b[0m\u001b[0;34m)\u001b[0m\u001b[0;34m\u001b[0m\u001b[0;34m\u001b[0m\u001b[0m\n\u001b[0;32m----> 3\u001b[0;31m \u001b[0mdropdown_year\u001b[0m \u001b[0;34m=\u001b[0m \u001b[0mwidgets\u001b[0m\u001b[0;34m.\u001b[0m\u001b[0mDropdown\u001b[0m\u001b[0;34m(\u001b[0m\u001b[0moptions\u001b[0m\u001b[0;34m=\u001b[0m\u001b[0munique_sorted_values_plus_ALL\u001b[0m\u001b[0;34m(\u001b[0m\u001b[0mgdf_london\u001b[0m\u001b[0;34m.\u001b[0m\u001b[0myear\u001b[0m\u001b[0;34m)\u001b[0m\u001b[0;34m)\u001b[0m  \u001b[0;31m# year\u001b[0m\u001b[0;34m\u001b[0m\u001b[0;34m\u001b[0m\u001b[0m\n\u001b[0m\u001b[1;32m      4\u001b[0m \u001b[0mdropdown_purpose\u001b[0m \u001b[0;34m=\u001b[0m \u001b[0mwidgets\u001b[0m\u001b[0;34m.\u001b[0m\u001b[0mDropdown\u001b[0m\u001b[0;34m(\u001b[0m\u001b[0moptions\u001b[0m\u001b[0;34m=\u001b[0m\u001b[0munique_sorted_values_plus_ALL\u001b[0m\u001b[0;34m(\u001b[0m\u001b[0mgdf_london\u001b[0m\u001b[0;34m.\u001b[0m\u001b[0mpurpose\u001b[0m\u001b[0;34m)\u001b[0m\u001b[0;34m)\u001b[0m  \u001b[0;31m# purpose\u001b[0m\u001b[0;34m\u001b[0m\u001b[0;34m\u001b[0m\u001b[0m\n\u001b[1;32m      5\u001b[0m \u001b[0;31m# gdf_london = ''\u001b[0m\u001b[0;34m\u001b[0m\u001b[0;34m\u001b[0m\u001b[0;34m\u001b[0m\u001b[0m\n",
      "\u001b[0;32m~/anaconda3/envs/testing011/lib/python3.7/site-packages/cudf/core/dataframe.py\u001b[0m in \u001b[0;36m__getattr__\u001b[0;34m(self, key)\u001b[0m\n\u001b[1;32m    334\u001b[0m             \u001b[0;32mreturn\u001b[0m \u001b[0mself\u001b[0m\u001b[0;34m[\u001b[0m\u001b[0mkey\u001b[0m\u001b[0;34m]\u001b[0m\u001b[0;34m\u001b[0m\u001b[0;34m\u001b[0m\u001b[0m\n\u001b[1;32m    335\u001b[0m \u001b[0;34m\u001b[0m\u001b[0m\n\u001b[0;32m--> 336\u001b[0;31m         \u001b[0;32mraise\u001b[0m \u001b[0mAttributeError\u001b[0m\u001b[0;34m(\u001b[0m\u001b[0;34m\"'DataFrame' object has no attribute %r\"\u001b[0m \u001b[0;34m%\u001b[0m \u001b[0mkey\u001b[0m\u001b[0;34m)\u001b[0m\u001b[0;34m\u001b[0m\u001b[0;34m\u001b[0m\u001b[0m\n\u001b[0m\u001b[1;32m    337\u001b[0m \u001b[0;34m\u001b[0m\u001b[0m\n\u001b[1;32m    338\u001b[0m     \u001b[0;32mdef\u001b[0m \u001b[0m__getitem__\u001b[0m\u001b[0;34m(\u001b[0m\u001b[0mself\u001b[0m\u001b[0;34m,\u001b[0m \u001b[0marg\u001b[0m\u001b[0;34m)\u001b[0m\u001b[0;34m:\u001b[0m\u001b[0;34m\u001b[0m\u001b[0;34m\u001b[0m\u001b[0m\n",
      "\u001b[0;31mAttributeError\u001b[0m: 'DataFrame' object has no attribute 'year'"
     ]
    }
   ],
   "source": [
    "# Here are the two dropdowns:\n",
    "gdf_london = bc.sql('select * from ivlondon')\n",
    "dropdown_year = widgets.Dropdown(options=unique_sorted_values_plus_ALL(gdf_london.year))  # year\n",
    "dropdown_purpose = widgets.Dropdown(options=unique_sorted_values_plus_ALL(gdf_london.purpose))  # purpose\n",
    "# gdf_london = ''\n",
    "# A useful numeric widget is the BoundedFloatText; \n",
    "# we will give it a min, max and initial value, and the incremental step.\n",
    "bounded_num = widgets.BoundedFloatText(min=0, max=100000, value=5, step=1)"
   ]
  },
  {
   "cell_type": "code",
   "execution_count": 49,
   "metadata": {},
   "outputs": [],
   "source": [
    "# In order to colour the dataframe cells, we will define this function:\n",
    "def colour_ge_value(value, comparison):\n",
    "    if float(value) >= float(comparison):\n",
    "        return 'color: red'\n",
    "    else:\n",
    "        return 'color: black'\n",
    "\n",
    "def common_filtering(year, purpose, num):\n",
    "    # We are clearing the output\n",
    "    output.clear_output()\n",
    "    # first we clear the output:\n",
    "    plot_output.clear_output()\n",
    "    # then we check if any of the values is ALL\n",
    "    if (year==ALL) & (purpose==ALL):\n",
    "        # in which case we consider that the respective filter is removed.\n",
    "        # common_filter = df_london\n",
    "        common_filter = bc.sql('SELECT * FROM ivlondon')\n",
    "    elif (year==ALL):\n",
    "        # year filter removed\n",
    "        # common_filter = df_london[df_london.purpose==purpose]\n",
    "        common_filter = bc.sql(f\"SELECT * FROM ivlondon WHERE purpose = '{purpose}'\")\n",
    "    elif (purpose==ALL):\n",
    "        # purpose filter removed\n",
    "        # common_filter = df_london[df_london.year==year]\n",
    "        common_filter = bc.sql(f'SELECT * FROM ivlondon WHERE ds = {year}')\n",
    "    # When both filters are present\n",
    "    else:\n",
    "        # we apply the & operation in both filters\n",
    "        # common_filter = df_london[(df_london.year==year) & \n",
    "        #                          (df_london.purpose==purpose)]\n",
    "        common_filter = bc.sql(f\"SELECT * FROM ivlondon WHERE purpose = '{purpose}' AND ds = {year}\")\n",
    "    with output:\n",
    "        # apply the styling by calling the colour_ge_value function for the three numeric columns:\n",
    "        display(common_filter.to_pandas().style.applymap(lambda x: colour_ge_value(x, num),\n",
    "                                                         subset=['visits','spend', 'nights']))\n",
    "    with plot_output:\n",
    "        # and then we call the kdeplot method of seaborn by passing the number of visits:\n",
    "        sns.kdeplot(common_filter['visits'], shade=True)\n",
    "        plt.show()\n",
    "        \n",
    "# The existing event handlers need to be adjusted \n",
    "def dropdown_year_eventhandler(change):\n",
    "    # to pass the bounded_num.value:\n",
    "    common_filtering(change.new, dropdown_purpose.value, bounded_num.value)\n",
    "def dropdown_purpose_eventhandler(change):\n",
    "    common_filtering(dropdown_year.value, change.new, bounded_num.value)\n",
    "    \n",
    "# And finally we will plug-in the event handler of the new widget:\n",
    "def bounded_num_eventhandler(change):\n",
    "    common_filtering(dropdown_year.value, dropdown_purpose.value, change.new)"
   ]
  },
  {
   "cell_type": "code",
   "execution_count": 50,
   "metadata": {},
   "outputs": [],
   "source": [
    "# We bind the handlers to the dropdowns, and that’s it!\n",
    "dropdown_year.observe(dropdown_year_eventhandler, names='value')\n",
    "dropdown_purpose.observe(dropdown_purpose_eventhandler, names='value')\n",
    "bounded_num.observe(bounded_num_eventhandler, names='value')"
   ]
  },
  {
   "cell_type": "code",
   "execution_count": 51,
   "metadata": {},
   "outputs": [],
   "source": [
    "# # let's see\n",
    "# display(dropdown_year)  # filter by year\n",
    "# display(dropdown_purpose)  # filter by purpose\n",
    "# display(bounded_num)  # identify visits, spend, nights values > this  "
   ]
  },
  {
   "cell_type": "code",
   "execution_count": 52,
   "metadata": {},
   "outputs": [],
   "source": [
    "# We will define a Layout giving 50px margin between the items.\n",
    "item_layout = widgets.Layout(margin='0 0 50px 0')\n",
    "\n",
    "# We will call this layout for each item:\n",
    "input_widgets = widgets.HBox([dropdown_year, dropdown_purpose, bounded_num], \n",
    "                             layout=item_layout)\n",
    "\n",
    "tab = widgets.Tab([output, plot_output], layout=item_layout)\n",
    "tab.set_title(0, 'Dataset Exploration')\n",
    "tab.set_title(1, 'KDE Plot')"
   ]
  },
  {
   "cell_type": "code",
   "execution_count": 53,
   "metadata": {},
   "outputs": [
    {
     "data": {
      "application/vnd.jupyter.widget-view+json": {
       "model_id": "95bb4b6295404e309bef79d34b0dc090",
       "version_major": 2,
       "version_minor": 0
      },
      "text/plain": [
       "VBox(children=(HBox(children=(Dropdown(index=7, options=('ALL', '2002', '2003', '2004', '2005', '2006', '2007'…"
      ]
     },
     "metadata": {},
     "output_type": "display_data"
    }
   ],
   "source": [
    "# Finally we will stack the input widgets and the tab on top of each other with a VBox.\n",
    "dashboard = widgets.VBox([input_widgets, tab])\n",
    "display(dashboard)"
   ]
  },
  {
   "cell_type": "markdown",
   "metadata": {},
   "source": [
    "- pretty sure it's working without the number filter part\n",
    "- current roadblock is applymap"
   ]
  },
  {
   "cell_type": "code",
   "execution_count": null,
   "metadata": {},
   "outputs": [],
   "source": []
  },
  {
   "cell_type": "code",
   "execution_count": null,
   "metadata": {},
   "outputs": [],
   "source": []
  },
  {
   "cell_type": "code",
   "execution_count": 9,
   "metadata": {},
   "outputs": [],
   "source": [
    "# load dataframe\n",
    "df_london = pd.read_csv(url)\n",
    "\n",
    "# shrink for easy display purposes\n",
    "df_london = df_london.sample(250)"
   ]
  },
  {
   "cell_type": "code",
   "execution_count": 10,
   "metadata": {},
   "outputs": [
    {
     "data": {
      "text/html": [
       "<div>\n",
       "<style scoped>\n",
       "    .dataframe tbody tr th:only-of-type {\n",
       "        vertical-align: middle;\n",
       "    }\n",
       "\n",
       "    .dataframe tbody tr th {\n",
       "        vertical-align: top;\n",
       "    }\n",
       "\n",
       "    .dataframe thead th {\n",
       "        text-align: right;\n",
       "    }\n",
       "</style>\n",
       "<table border=\"1\" class=\"dataframe\">\n",
       "  <thead>\n",
       "    <tr style=\"text-align: right;\">\n",
       "      <th></th>\n",
       "      <th>year</th>\n",
       "      <th>quarter</th>\n",
       "      <th>market</th>\n",
       "      <th>dur_stay</th>\n",
       "      <th>mode</th>\n",
       "      <th>purpose</th>\n",
       "      <th>area</th>\n",
       "      <th>visits</th>\n",
       "      <th>spend</th>\n",
       "      <th>nights</th>\n",
       "      <th>sample</th>\n",
       "    </tr>\n",
       "  </thead>\n",
       "  <tbody>\n",
       "    <tr>\n",
       "      <th>27229</th>\n",
       "      <td>2010</td>\n",
       "      <td>Q1</td>\n",
       "      <td>Poland</td>\n",
       "      <td>1-3  nights</td>\n",
       "      <td>Air</td>\n",
       "      <td>VFR</td>\n",
       "      <td>LONDON</td>\n",
       "      <td>9.911947</td>\n",
       "      <td>3.290706</td>\n",
       "      <td>24.674161</td>\n",
       "      <td>11</td>\n",
       "    </tr>\n",
       "    <tr>\n",
       "      <th>19739</th>\n",
       "      <td>2007</td>\n",
       "      <td>Q4</td>\n",
       "      <td>Netherlands</td>\n",
       "      <td>1-3  nights</td>\n",
       "      <td>Air</td>\n",
       "      <td>Miscellaneous</td>\n",
       "      <td>LONDON</td>\n",
       "      <td>10.043266</td>\n",
       "      <td>3.921595</td>\n",
       "      <td>15.544731</td>\n",
       "      <td>13</td>\n",
       "    </tr>\n",
       "    <tr>\n",
       "      <th>20318</th>\n",
       "      <td>2007</td>\n",
       "      <td>Q4</td>\n",
       "      <td>Egypt</td>\n",
       "      <td>4-7  nights</td>\n",
       "      <td>Air</td>\n",
       "      <td>Business</td>\n",
       "      <td>LONDON</td>\n",
       "      <td>0.741172</td>\n",
       "      <td>2.752710</td>\n",
       "      <td>2.964690</td>\n",
       "      <td>1</td>\n",
       "    </tr>\n",
       "  </tbody>\n",
       "</table>\n",
       "</div>"
      ],
      "text/plain": [
       "       year quarter       market     dur_stay mode        purpose     area  \\\n",
       "27229  2010      Q1       Poland  1-3  nights  Air            VFR   LONDON   \n",
       "19739  2007      Q4  Netherlands  1-3  nights  Air  Miscellaneous   LONDON   \n",
       "20318  2007      Q4        Egypt  4-7  nights  Air       Business   LONDON   \n",
       "\n",
       "          visits     spend     nights  sample  \n",
       "27229   9.911947  3.290706  24.674161      11  \n",
       "19739  10.043266  3.921595  15.544731      13  \n",
       "20318   0.741172  2.752710   2.964690       1  "
      ]
     },
     "execution_count": 10,
     "metadata": {},
     "output_type": "execute_result"
    }
   ],
   "source": [
    "df_london.sample(3)"
   ]
  },
  {
   "cell_type": "markdown",
   "metadata": {},
   "source": [
    "- Suppose we would like to filter the dataframe by year. \n",
    "- We will first define a dropdown and populate it with the list of unique year values.\n",
    "- In order to do this, we will create a generic function, \n",
    "    - unique_sorted_values_plus_ALL, \n",
    "    - which will \n",
    "        - find the unique values, \n",
    "        - sort them \n",
    "        - and then add the ALL item at the start, \n",
    "            - so the user could remove the filter."
   ]
  },
  {
   "cell_type": "code",
   "execution_count": 11,
   "metadata": {},
   "outputs": [],
   "source": [
    "ALL = 'ALL'\n",
    "\n",
    "def unique_sorted_values_plus_ALL(array):\n",
    "    unique = array.unique().tolist()\n",
    "    unique.sort()\n",
    "    unique.insert(0, ALL)\n",
    "    return unique"
   ]
  },
  {
   "cell_type": "code",
   "execution_count": 20,
   "metadata": {
    "scrolled": true
   },
   "outputs": [
    {
     "data": {
      "application/vnd.jupyter.widget-view+json": {
       "model_id": "990bc71a944b4732a78dc3d826ea3fc3",
       "version_major": 2,
       "version_minor": 0
      },
      "text/plain": [
       "Dropdown(options=('ALL', 2002, 2003, 2004, 2005, 2006, 2007, 2008, 2009, 2010, 2011, 2012, 2013, 2014, 2015, 2…"
      ]
     },
     "metadata": {},
     "output_type": "display_data"
    }
   ],
   "source": [
    "# Now we will initialise the dropdown:\n",
    "dropdown_year = widgets.Dropdown(options=unique_sorted_values_plus_ALL(df_london.year))\n",
    "# Dropdown widget observe method takes function that will be invoked when the value of the dropdown changes\n",
    "dropdown_year"
   ]
  },
  {
   "cell_type": "markdown",
   "metadata": {},
   "source": [
    "- note that the input argument of the handler, change, contains information about the changes that took place \n",
    "    - which allows us to access the new value (change.new)."
   ]
  },
  {
   "cell_type": "code",
   "execution_count": 18,
   "metadata": {},
   "outputs": [],
   "source": [
    "# If the new value is ALL we remove the filter, otherwise we apply it:\n",
    "def dropdown_year_eventhandler(change):\n",
    "    if (change.new == ALL):\n",
    "        display(df_london)\n",
    "    else:\n",
    "        display(df_london[df_london.year == change.new])"
   ]
  },
  {
   "cell_type": "code",
   "execution_count": 19,
   "metadata": {},
   "outputs": [],
   "source": [
    "# We will then bind the handler to the dropdown:\n",
    "dropdown_year.observe(dropdown_year_eventhandler, names='value')"
   ]
  },
  {
   "cell_type": "markdown",
   "metadata": {},
   "source": [
    "3.sub-***SECTION TOGETHER***"
   ]
  },
  {
   "cell_type": "code",
   "execution_count": 23,
   "metadata": {},
   "outputs": [
    {
     "data": {
      "application/vnd.jupyter.widget-view+json": {
       "model_id": "45c03f08b69245b28567a98846feed57",
       "version_major": 2,
       "version_minor": 0
      },
      "text/plain": [
       "Dropdown(options=('ALL', 2002, 2003, 2004, 2005, 2006, 2007, 2008, 2009, 2010, 2011, 2012, 2013, 2014, 2015, 2…"
      ]
     },
     "metadata": {},
     "output_type": "display_data"
    },
    {
     "data": {
      "text/html": [
       "<div>\n",
       "<style scoped>\n",
       "    .dataframe tbody tr th:only-of-type {\n",
       "        vertical-align: middle;\n",
       "    }\n",
       "\n",
       "    .dataframe tbody tr th {\n",
       "        vertical-align: top;\n",
       "    }\n",
       "\n",
       "    .dataframe thead th {\n",
       "        text-align: right;\n",
       "    }\n",
       "</style>\n",
       "<table border=\"1\" class=\"dataframe\">\n",
       "  <thead>\n",
       "    <tr style=\"text-align: right;\">\n",
       "      <th></th>\n",
       "      <th>year</th>\n",
       "      <th>quarter</th>\n",
       "      <th>market</th>\n",
       "      <th>dur_stay</th>\n",
       "      <th>mode</th>\n",
       "      <th>purpose</th>\n",
       "      <th>area</th>\n",
       "      <th>visits</th>\n",
       "      <th>spend</th>\n",
       "      <th>nights</th>\n",
       "      <th>sample</th>\n",
       "    </tr>\n",
       "  </thead>\n",
       "  <tbody>\n",
       "    <tr>\n",
       "      <th>10158</th>\n",
       "      <td>2005</td>\n",
       "      <td>Q1</td>\n",
       "      <td>Belgium</td>\n",
       "      <td>1-3  nights</td>\n",
       "      <td>Air</td>\n",
       "      <td>Holiday</td>\n",
       "      <td>LONDON</td>\n",
       "      <td>1.764158</td>\n",
       "      <td>0.546360</td>\n",
       "      <td>4.304558</td>\n",
       "      <td>5</td>\n",
       "    </tr>\n",
       "    <tr>\n",
       "      <th>10159</th>\n",
       "      <td>2005</td>\n",
       "      <td>Q1</td>\n",
       "      <td>Belgium</td>\n",
       "      <td>1-3  nights</td>\n",
       "      <td>Air</td>\n",
       "      <td>Business</td>\n",
       "      <td>LONDON</td>\n",
       "      <td>3.554767</td>\n",
       "      <td>1.869742</td>\n",
       "      <td>6.215037</td>\n",
       "      <td>10</td>\n",
       "    </tr>\n",
       "    <tr>\n",
       "      <th>10160</th>\n",
       "      <td>2005</td>\n",
       "      <td>Q1</td>\n",
       "      <td>Belgium</td>\n",
       "      <td>1-3  nights</td>\n",
       "      <td>Air</td>\n",
       "      <td>VFR</td>\n",
       "      <td>LONDON</td>\n",
       "      <td>0.677851</td>\n",
       "      <td>0.110490</td>\n",
       "      <td>1.099811</td>\n",
       "      <td>2</td>\n",
       "    </tr>\n",
       "    <tr>\n",
       "      <th>10161</th>\n",
       "      <td>2005</td>\n",
       "      <td>Q1</td>\n",
       "      <td>Belgium</td>\n",
       "      <td>1-3  nights</td>\n",
       "      <td>Air</td>\n",
       "      <td>Miscellaneous</td>\n",
       "      <td>LONDON</td>\n",
       "      <td>1.433738</td>\n",
       "      <td>0.070763</td>\n",
       "      <td>1.433738</td>\n",
       "      <td>4</td>\n",
       "    </tr>\n",
       "    <tr>\n",
       "      <th>10162</th>\n",
       "      <td>2005</td>\n",
       "      <td>Q1</td>\n",
       "      <td>Belgium</td>\n",
       "      <td>1-3  nights</td>\n",
       "      <td>Sea</td>\n",
       "      <td>VFR</td>\n",
       "      <td>LONDON</td>\n",
       "      <td>3.899300</td>\n",
       "      <td>0.266164</td>\n",
       "      <td>6.762390</td>\n",
       "      <td>2</td>\n",
       "    </tr>\n",
       "    <tr>\n",
       "      <th>...</th>\n",
       "      <td>...</td>\n",
       "      <td>...</td>\n",
       "      <td>...</td>\n",
       "      <td>...</td>\n",
       "      <td>...</td>\n",
       "      <td>...</td>\n",
       "      <td>...</td>\n",
       "      <td>...</td>\n",
       "      <td>...</td>\n",
       "      <td>...</td>\n",
       "      <td>...</td>\n",
       "    </tr>\n",
       "    <tr>\n",
       "      <th>13647</th>\n",
       "      <td>2005</td>\n",
       "      <td>Q4</td>\n",
       "      <td>Other Africa</td>\n",
       "      <td>8-14 nights</td>\n",
       "      <td>Air</td>\n",
       "      <td>VFR</td>\n",
       "      <td>LONDON</td>\n",
       "      <td>1.181790</td>\n",
       "      <td>0.269720</td>\n",
       "      <td>12.929710</td>\n",
       "      <td>3</td>\n",
       "    </tr>\n",
       "    <tr>\n",
       "      <th>13648</th>\n",
       "      <td>2005</td>\n",
       "      <td>Q4</td>\n",
       "      <td>Other Africa</td>\n",
       "      <td>8-14 nights</td>\n",
       "      <td>Air</td>\n",
       "      <td>Miscellaneous</td>\n",
       "      <td>LONDON</td>\n",
       "      <td>0.619166</td>\n",
       "      <td>0.527418</td>\n",
       "      <td>2.012020</td>\n",
       "      <td>1</td>\n",
       "    </tr>\n",
       "    <tr>\n",
       "      <th>13649</th>\n",
       "      <td>2005</td>\n",
       "      <td>Q4</td>\n",
       "      <td>Other Africa</td>\n",
       "      <td>15+  nights</td>\n",
       "      <td>Air</td>\n",
       "      <td>Holiday</td>\n",
       "      <td>LONDON</td>\n",
       "      <td>0.307705</td>\n",
       "      <td>0.094186</td>\n",
       "      <td>13.530300</td>\n",
       "      <td>1</td>\n",
       "    </tr>\n",
       "    <tr>\n",
       "      <th>13650</th>\n",
       "      <td>2005</td>\n",
       "      <td>Q4</td>\n",
       "      <td>Other Africa</td>\n",
       "      <td>15+  nights</td>\n",
       "      <td>Air</td>\n",
       "      <td>Business</td>\n",
       "      <td>LONDON</td>\n",
       "      <td>0.985602</td>\n",
       "      <td>1.901579</td>\n",
       "      <td>18.386979</td>\n",
       "      <td>3</td>\n",
       "    </tr>\n",
       "    <tr>\n",
       "      <th>13651</th>\n",
       "      <td>2005</td>\n",
       "      <td>Q4</td>\n",
       "      <td>Other Africa</td>\n",
       "      <td>15+  nights</td>\n",
       "      <td>Air</td>\n",
       "      <td>VFR</td>\n",
       "      <td>LONDON</td>\n",
       "      <td>3.943192</td>\n",
       "      <td>1.981916</td>\n",
       "      <td>234.548590</td>\n",
       "      <td>10</td>\n",
       "    </tr>\n",
       "  </tbody>\n",
       "</table>\n",
       "<p>3494 rows × 11 columns</p>\n",
       "</div>"
      ],
      "text/plain": [
       "       year quarter        market     dur_stay mode        purpose     area  \\\n",
       "10158  2005      Q1       Belgium  1-3  nights  Air        Holiday   LONDON   \n",
       "10159  2005      Q1       Belgium  1-3  nights  Air       Business   LONDON   \n",
       "10160  2005      Q1       Belgium  1-3  nights  Air            VFR   LONDON   \n",
       "10161  2005      Q1       Belgium  1-3  nights  Air  Miscellaneous   LONDON   \n",
       "10162  2005      Q1       Belgium  1-3  nights  Sea            VFR   LONDON   \n",
       "...     ...     ...           ...          ...  ...            ...      ...   \n",
       "13647  2005      Q4  Other Africa  8-14 nights  Air            VFR   LONDON   \n",
       "13648  2005      Q4  Other Africa  8-14 nights  Air  Miscellaneous   LONDON   \n",
       "13649  2005      Q4  Other Africa  15+  nights  Air        Holiday   LONDON   \n",
       "13650  2005      Q4  Other Africa  15+  nights  Air       Business   LONDON   \n",
       "13651  2005      Q4  Other Africa  15+  nights  Air            VFR   LONDON   \n",
       "\n",
       "         visits     spend      nights  sample  \n",
       "10158  1.764158  0.546360    4.304558       5  \n",
       "10159  3.554767  1.869742    6.215037      10  \n",
       "10160  0.677851  0.110490    1.099811       2  \n",
       "10161  1.433738  0.070763    1.433738       4  \n",
       "10162  3.899300  0.266164    6.762390       2  \n",
       "...         ...       ...         ...     ...  \n",
       "13647  1.181790  0.269720   12.929710       3  \n",
       "13648  0.619166  0.527418    2.012020       1  \n",
       "13649  0.307705  0.094186   13.530300       1  \n",
       "13650  0.985602  1.901579   18.386979       3  \n",
       "13651  3.943192  1.981916  234.548590      10  \n",
       "\n",
       "[3494 rows x 11 columns]"
      ]
     },
     "metadata": {},
     "output_type": "display_data"
    },
    {
     "data": {
      "text/html": [
       "<div>\n",
       "<style scoped>\n",
       "    .dataframe tbody tr th:only-of-type {\n",
       "        vertical-align: middle;\n",
       "    }\n",
       "\n",
       "    .dataframe tbody tr th {\n",
       "        vertical-align: top;\n",
       "    }\n",
       "\n",
       "    .dataframe thead th {\n",
       "        text-align: right;\n",
       "    }\n",
       "</style>\n",
       "<table border=\"1\" class=\"dataframe\">\n",
       "  <thead>\n",
       "    <tr style=\"text-align: right;\">\n",
       "      <th></th>\n",
       "      <th>year</th>\n",
       "      <th>quarter</th>\n",
       "      <th>market</th>\n",
       "      <th>dur_stay</th>\n",
       "      <th>mode</th>\n",
       "      <th>purpose</th>\n",
       "      <th>area</th>\n",
       "      <th>visits</th>\n",
       "      <th>spend</th>\n",
       "      <th>nights</th>\n",
       "      <th>sample</th>\n",
       "    </tr>\n",
       "  </thead>\n",
       "  <tbody>\n",
       "    <tr>\n",
       "      <th>57585</th>\n",
       "      <td>2019</td>\n",
       "      <td>Q1</td>\n",
       "      <td>Belgium</td>\n",
       "      <td>1-3  nights</td>\n",
       "      <td>Air</td>\n",
       "      <td>Holiday</td>\n",
       "      <td>LONDON</td>\n",
       "      <td>0.997789</td>\n",
       "      <td>0.694621</td>\n",
       "      <td>2.993367</td>\n",
       "      <td>2</td>\n",
       "    </tr>\n",
       "    <tr>\n",
       "      <th>57586</th>\n",
       "      <td>2019</td>\n",
       "      <td>Q1</td>\n",
       "      <td>Belgium</td>\n",
       "      <td>1-3  nights</td>\n",
       "      <td>Air</td>\n",
       "      <td>Business</td>\n",
       "      <td>LONDON</td>\n",
       "      <td>4.459944</td>\n",
       "      <td>1.022251</td>\n",
       "      <td>18.028843</td>\n",
       "      <td>5</td>\n",
       "    </tr>\n",
       "    <tr>\n",
       "      <th>57587</th>\n",
       "      <td>2019</td>\n",
       "      <td>Q1</td>\n",
       "      <td>Belgium</td>\n",
       "      <td>1-3  nights</td>\n",
       "      <td>Air</td>\n",
       "      <td>Miscellaneous</td>\n",
       "      <td>LONDON</td>\n",
       "      <td>0.538696</td>\n",
       "      <td>0.035015</td>\n",
       "      <td>0.538696</td>\n",
       "      <td>1</td>\n",
       "    </tr>\n",
       "    <tr>\n",
       "      <th>57588</th>\n",
       "      <td>2019</td>\n",
       "      <td>Q1</td>\n",
       "      <td>Belgium</td>\n",
       "      <td>1-3  nights</td>\n",
       "      <td>Sea</td>\n",
       "      <td>Holiday</td>\n",
       "      <td>LONDON</td>\n",
       "      <td>1.604444</td>\n",
       "      <td>0.830520</td>\n",
       "      <td>1.630169</td>\n",
       "      <td>1</td>\n",
       "    </tr>\n",
       "    <tr>\n",
       "      <th>57589</th>\n",
       "      <td>2019</td>\n",
       "      <td>Q1</td>\n",
       "      <td>Belgium</td>\n",
       "      <td>1-3  nights</td>\n",
       "      <td>Sea</td>\n",
       "      <td>VFR</td>\n",
       "      <td>LONDON</td>\n",
       "      <td>4.897217</td>\n",
       "      <td>0.899031</td>\n",
       "      <td>11.117463</td>\n",
       "      <td>3</td>\n",
       "    </tr>\n",
       "    <tr>\n",
       "      <th>...</th>\n",
       "      <td>...</td>\n",
       "      <td>...</td>\n",
       "      <td>...</td>\n",
       "      <td>...</td>\n",
       "      <td>...</td>\n",
       "      <td>...</td>\n",
       "      <td>...</td>\n",
       "      <td>...</td>\n",
       "      <td>...</td>\n",
       "      <td>...</td>\n",
       "      <td>...</td>\n",
       "    </tr>\n",
       "    <tr>\n",
       "      <th>58248</th>\n",
       "      <td>2019</td>\n",
       "      <td>Q1</td>\n",
       "      <td>Other Africa</td>\n",
       "      <td>4-7  nights</td>\n",
       "      <td>Air</td>\n",
       "      <td>VFR</td>\n",
       "      <td>LONDON</td>\n",
       "      <td>3.408199</td>\n",
       "      <td>0.652485</td>\n",
       "      <td>21.555157</td>\n",
       "      <td>3</td>\n",
       "    </tr>\n",
       "    <tr>\n",
       "      <th>58249</th>\n",
       "      <td>2019</td>\n",
       "      <td>Q1</td>\n",
       "      <td>Other Africa</td>\n",
       "      <td>4-7  nights</td>\n",
       "      <td>Air</td>\n",
       "      <td>Study</td>\n",
       "      <td>LONDON</td>\n",
       "      <td>0.367328</td>\n",
       "      <td>1.107405</td>\n",
       "      <td>2.572745</td>\n",
       "      <td>1</td>\n",
       "    </tr>\n",
       "    <tr>\n",
       "      <th>58250</th>\n",
       "      <td>2019</td>\n",
       "      <td>Q1</td>\n",
       "      <td>Other Africa</td>\n",
       "      <td>8-14 nights</td>\n",
       "      <td>Air</td>\n",
       "      <td>Business</td>\n",
       "      <td>LONDON</td>\n",
       "      <td>0.871365</td>\n",
       "      <td>0.385046</td>\n",
       "      <td>1.743714</td>\n",
       "      <td>1</td>\n",
       "    </tr>\n",
       "    <tr>\n",
       "      <th>58251</th>\n",
       "      <td>2019</td>\n",
       "      <td>Q1</td>\n",
       "      <td>Other Africa</td>\n",
       "      <td>8-14 nights</td>\n",
       "      <td>Air</td>\n",
       "      <td>VFR</td>\n",
       "      <td>LONDON</td>\n",
       "      <td>2.230128</td>\n",
       "      <td>0.516292</td>\n",
       "      <td>10.385685</td>\n",
       "      <td>3</td>\n",
       "    </tr>\n",
       "    <tr>\n",
       "      <th>58252</th>\n",
       "      <td>2019</td>\n",
       "      <td>Q1</td>\n",
       "      <td>Other Africa</td>\n",
       "      <td>15+  nights</td>\n",
       "      <td>Air</td>\n",
       "      <td>Holiday</td>\n",
       "      <td>LONDON</td>\n",
       "      <td>0.637782</td>\n",
       "      <td>1.285028</td>\n",
       "      <td>27.440094</td>\n",
       "      <td>1</td>\n",
       "    </tr>\n",
       "  </tbody>\n",
       "</table>\n",
       "<p>668 rows × 11 columns</p>\n",
       "</div>"
      ],
      "text/plain": [
       "       year quarter        market     dur_stay mode        purpose     area  \\\n",
       "57585  2019      Q1       Belgium  1-3  nights  Air        Holiday   LONDON   \n",
       "57586  2019      Q1       Belgium  1-3  nights  Air       Business   LONDON   \n",
       "57587  2019      Q1       Belgium  1-3  nights  Air  Miscellaneous   LONDON   \n",
       "57588  2019      Q1       Belgium  1-3  nights  Sea        Holiday   LONDON   \n",
       "57589  2019      Q1       Belgium  1-3  nights  Sea            VFR   LONDON   \n",
       "...     ...     ...           ...          ...  ...            ...      ...   \n",
       "58248  2019      Q1  Other Africa  4-7  nights  Air            VFR   LONDON   \n",
       "58249  2019      Q1  Other Africa  4-7  nights  Air          Study   LONDON   \n",
       "58250  2019      Q1  Other Africa  8-14 nights  Air       Business   LONDON   \n",
       "58251  2019      Q1  Other Africa  8-14 nights  Air            VFR   LONDON   \n",
       "58252  2019      Q1  Other Africa  15+  nights  Air        Holiday   LONDON   \n",
       "\n",
       "         visits     spend     nights  sample  \n",
       "57585  0.997789  0.694621   2.993367       2  \n",
       "57586  4.459944  1.022251  18.028843       5  \n",
       "57587  0.538696  0.035015   0.538696       1  \n",
       "57588  1.604444  0.830520   1.630169       1  \n",
       "57589  4.897217  0.899031  11.117463       3  \n",
       "...         ...       ...        ...     ...  \n",
       "58248  3.408199  0.652485  21.555157       3  \n",
       "58249  0.367328  1.107405   2.572745       1  \n",
       "58250  0.871365  0.385046   1.743714       1  \n",
       "58251  2.230128  0.516292  10.385685       3  \n",
       "58252  0.637782  1.285028  27.440094       1  \n",
       "\n",
       "[668 rows x 11 columns]"
      ]
     },
     "metadata": {},
     "output_type": "display_data"
    }
   ],
   "source": [
    "# Now we will initialise the dropdown:\n",
    "dropdown_year = widgets.Dropdown(options=unique_sorted_values_plus_ALL(df_london.year))\n",
    "\n",
    "# If the new value is ALL we remove the filter, otherwise we apply it:\n",
    "def dropdown_year_eventhandler(change):\n",
    "    if (change.new == ALL):\n",
    "        display(df_london)\n",
    "    else:\n",
    "        display(df_london[df_london.year == change.new])\n",
    "        \n",
    "# We will then bind the handler to the dropdown:\n",
    "dropdown_year.observe(dropdown_year_eventhandler, names='value')\n",
    "\n",
    "# Dropdown widget observe method takes function that will be invoked when the value of the dropdown changes\n",
    "dropdown_year"
   ]
  },
  {
   "cell_type": "markdown",
   "metadata": {},
   "source": [
    "#### 3. Capturing Widget Output\n",
    "- So far so good, but the output of all the queries is accumulating in this very same cell; \n",
    "    - i.e. if we select a new year from the dropdown, \n",
    "        - a new dataframe will render underneath the first one, \n",
    "        - on the same cell.\n",
    "- The desired behaviour is to refresh the contents of the dataframe each time.\n",
    "- The solution to this is to capture the cell output in a special kind of widget, \n",
    "    - namely Output, \n",
    "    - and then display it in another cell.\n"
   ]
  },
  {
   "cell_type": "code",
   "execution_count": 24,
   "metadata": {},
   "outputs": [],
   "source": [
    "# create a new instance of Output\n",
    "output_year = widgets.Output()"
   ]
  },
  {
   "cell_type": "code",
   "execution_count": 25,
   "metadata": {},
   "outputs": [],
   "source": [
    "# call the clear_output method within the event handler \n",
    "def dropdown_year_eventhandler(change):\n",
    "    # to clear the previous selection on each iteration, \n",
    "    output_year.clear_output()\n",
    "    with output_year:\n",
    "        # and capture the output of the dataframe.\n",
    "        display(df_london[df_london.year == change.new])"
   ]
  },
  {
   "cell_type": "code",
   "execution_count": 26,
   "metadata": {},
   "outputs": [
    {
     "data": {
      "application/vnd.jupyter.widget-view+json": {
       "model_id": "4457798ea5034b7e8c62c3d2b4319129",
       "version_major": 2,
       "version_minor": 0
      },
      "text/plain": [
       "Output()"
      ]
     },
     "metadata": {},
     "output_type": "display_data"
    }
   ],
   "source": [
    "# We will then display the output in a new cell:\n",
    "display(output_year)"
   ]
  },
  {
   "cell_type": "markdown",
   "metadata": {},
   "source": [
    "#### 3. ALL TOGETHER\n",
    "- next 2 cells"
   ]
  },
  {
   "cell_type": "code",
   "execution_count": 30,
   "metadata": {},
   "outputs": [
    {
     "data": {
      "application/vnd.jupyter.widget-view+json": {
       "model_id": "b5ae3c9fb77a488a9e48003176ea7766",
       "version_major": 2,
       "version_minor": 0
      },
      "text/plain": [
       "Dropdown(options=('ALL', 2002, 2003, 2004, 2005, 2006, 2007, 2008, 2009, 2010, 2011, 2012, 2013, 2014, 2015, 2…"
      ]
     },
     "metadata": {},
     "output_type": "display_data"
    }
   ],
   "source": [
    "# create a new instance of Output\n",
    "output_year = widgets.Output()\n",
    "\n",
    "ALL = 'ALL'\n",
    "def unique_sorted_values_plus_ALL(array):\n",
    "    unique = array.unique().tolist()\n",
    "    unique.sort()\n",
    "    unique.insert(0, ALL)\n",
    "    return unique\n",
    "\n",
    "# Now we will initialise the dropdown:\n",
    "dropdown_year = widgets.Dropdown(options=unique_sorted_values_plus_ALL(df_london.year))\n",
    "\n",
    "# call the clear_output method within the event handler \n",
    "def dropdown_year_eventhandler(change):\n",
    "    # to clear the previous selection on each iteration, \n",
    "    output_year.clear_output()\n",
    "    with output_year:\n",
    "        # and capture the output of the dataframe.\n",
    "        display(df_london[df_london.year == change.new])\n",
    "        \n",
    "# We will then bind the handler to the dropdown:\n",
    "dropdown_year.observe(dropdown_year_eventhandler, names='value')\n",
    "\n",
    "# Dropdown widget observe method takes function that will be invoked when the value of the dropdown changes\n",
    "dropdown_year"
   ]
  },
  {
   "cell_type": "code",
   "execution_count": 31,
   "metadata": {},
   "outputs": [
    {
     "data": {
      "application/vnd.jupyter.widget-view+json": {
       "model_id": "8ca291a125ac4505adf269e4dfda6e9e",
       "version_major": 2,
       "version_minor": 0
      },
      "text/plain": [
       "Output()"
      ]
     },
     "metadata": {},
     "output_type": "display_data"
    }
   ],
   "source": [
    "# We will then display the output in a new cell:\n",
    "display(output_year)"
   ]
  },
  {
   "cell_type": "markdown",
   "metadata": {},
   "source": [
    "## ❹ Linking Widget Outputs\n",
    "- Continuing the previous example, \n",
    "    - let’s assume we would also like to filter by purpose too.\n",
    "- If we go ahead and add another dropdown, we will quickly realise the dataframe only responds to the filter by the dropdown which was recently changed. \n",
    "- What we need to do is to link the two together so it can work on both values (i.e. year and purpose).\n"
   ]
  },
  {
   "cell_type": "code",
   "execution_count": 32,
   "metadata": {},
   "outputs": [],
   "source": [
    "# Firstly we need a common output for both dropdowns:\n",
    "output = widgets.Output()"
   ]
  },
  {
   "cell_type": "code",
   "execution_count": 33,
   "metadata": {},
   "outputs": [],
   "source": [
    "# Here are the two dropdowns:\n",
    "dropdown_year = widgets.Dropdown(options = unique_sorted_values_plus_ALL(df_london.year))  # year\n",
    "dropdown_purpose = widgets.Dropdown(options = unique_sorted_values_plus_ALL(df_london.purpose))  # purpose"
   ]
  },
  {
   "cell_type": "markdown",
   "metadata": {},
   "source": [
    "- Then we create a new function, \n",
    "    - common_filtering, \n",
    "    - that will be called by both the event handlers. \n",
    "- This function will apply a filter on the dataframe for both year AND purpose:"
   ]
  },
  {
   "cell_type": "code",
   "execution_count": 35,
   "metadata": {},
   "outputs": [],
   "source": [
    "def common_filtering(year, purpose):\n",
    "    # We are clearing the output\n",
    "    output.clear_output()\n",
    "    # then we check if any of the values is ALL\n",
    "    if (year == ALL) & (purpose == ALL):\n",
    "        # in which case we consider that the respective filter is removed.\n",
    "        common_filter = df_london\n",
    "    elif (year == ALL):\n",
    "        # year filter removed\n",
    "        common_filter = df_london[df_london.purpose == purpose]\n",
    "    elif (purpose == ALL):\n",
    "        # purpose filter removed\n",
    "        common_filter = df_london[df_london.year == year]\n",
    "    # When both filters are present\n",
    "    else:\n",
    "        # we apply the & operation in both filters\n",
    "        common_filter = df_london[(df_london.year == year) & \n",
    "                                  (df_london.purpose == purpose)]\n",
    "    with output:\n",
    "        # Finally we capture the output:\n",
    "        display(common_filter)"
   ]
  },
  {
   "cell_type": "code",
   "execution_count": 36,
   "metadata": {},
   "outputs": [],
   "source": [
    "# We amend the event handlers to call the common_filtering function \n",
    "def dropdown_year_eventhandler(change):\n",
    "    # and pass the change.new value as well as the current value of the other dropdown:\n",
    "    common_filtering(change.new, dropdown_purpose.value)\n",
    "def dropdown_purpose_eventhandler(change):\n",
    "    common_filtering(dropdown_year.value, change.new)"
   ]
  },
  {
   "cell_type": "code",
   "execution_count": 37,
   "metadata": {},
   "outputs": [],
   "source": [
    "# We bind the handlers to the dropdowns, and that’s it!\n",
    "dropdown_year.observe(dropdown_year_eventhandler, names='value')\n",
    "dropdown_purpose.observe(dropdown_purpose_eventhandler, names='value')"
   ]
  },
  {
   "cell_type": "markdown",
   "metadata": {},
   "source": [
    "#### 4. ALL TOGETHER"
   ]
  },
  {
   "cell_type": "code",
   "execution_count": 47,
   "metadata": {},
   "outputs": [
    {
     "data": {
      "application/vnd.jupyter.widget-view+json": {
       "model_id": "f5e6f38c28c44c329cc62d52e5e7a292",
       "version_major": 2,
       "version_minor": 0
      },
      "text/plain": [
       "Dropdown(options=('ALL', 2002, 2003, 2004, 2005, 2006, 2007, 2008, 2009, 2010, 2011, 2012, 2013, 2014, 2015, 2…"
      ]
     },
     "metadata": {},
     "output_type": "display_data"
    },
    {
     "data": {
      "application/vnd.jupyter.widget-view+json": {
       "model_id": "dd519d377c9f45b7aa4e10845a979e3a",
       "version_major": 2,
       "version_minor": 0
      },
      "text/plain": [
       "Dropdown(options=('ALL', 'Business', 'Holiday', 'Miscellaneous', 'Study', 'VFR'), value='ALL')"
      ]
     },
     "metadata": {},
     "output_type": "display_data"
    }
   ],
   "source": [
    "# Firstly we need a common output for both dropdowns:\n",
    "output = widgets.Output()\n",
    "\n",
    "# Here are the two dropdowns:\n",
    "dropdown_year = widgets.Dropdown(options = unique_sorted_values_plus_ALL(df_london.year))  # year\n",
    "dropdown_purpose = widgets.Dropdown(options = unique_sorted_values_plus_ALL(df_london.purpose))  # purpose\n",
    "\n",
    "def common_filtering(year, purpose):\n",
    "    # We are clearing the output\n",
    "    output.clear_output()\n",
    "    # then we check if any of the values is ALL\n",
    "    if (year == ALL) & (purpose == ALL):\n",
    "        # in which case we consider that the respective filter is removed.\n",
    "        common_filter = df_london\n",
    "    elif (year == ALL):\n",
    "        # year filter removed\n",
    "        common_filter = df_london[df_london.purpose == purpose]\n",
    "    elif (purpose == ALL):\n",
    "        # purpose filter removed\n",
    "        common_filter = df_london[df_london.year == year]\n",
    "    # When both filters are present\n",
    "    else:\n",
    "        # we apply the & operation in both filters\n",
    "        common_filter = df_london[(df_london.year == year) & \n",
    "                                  (df_london.purpose == purpose)]\n",
    "    with output:\n",
    "        # Finally we capture the output:\n",
    "        display(common_filter)\n",
    "        \n",
    "# We amend the event handlers to call the common_filtering function \n",
    "def dropdown_year_eventhandler(change):\n",
    "    # and pass the change.new value as well as the current value of the other dropdown:\n",
    "    common_filtering(change.new, dropdown_purpose.value)\n",
    "def dropdown_purpose_eventhandler(change):\n",
    "    common_filtering(dropdown_year.value, change.new)\n",
    "    \n",
    "# We bind the handlers to the dropdowns, and that’s it!\n",
    "dropdown_year.observe(dropdown_year_eventhandler, names='value')\n",
    "dropdown_purpose.observe(dropdown_purpose_eventhandler, names='value')\n",
    "\n",
    "# let's see\n",
    "display(dropdown_year)\n",
    "display(dropdown_purpose)"
   ]
  },
  {
   "cell_type": "code",
   "execution_count": 48,
   "metadata": {},
   "outputs": [
    {
     "data": {
      "application/vnd.jupyter.widget-view+json": {
       "model_id": "d5798132ba0541bcb3bf58181ba35298",
       "version_major": 2,
       "version_minor": 0
      },
      "text/plain": [
       "Output()"
      ]
     },
     "metadata": {},
     "output_type": "display_data"
    }
   ],
   "source": [
    "display(output)"
   ]
  },
  {
   "cell_type": "markdown",
   "metadata": {},
   "source": [
    "## ❺ Creating a Dashboard\n",
    "- We have put the basis for our dashboard so far by filtering and displaying the data of the London dataset. \n",
    "- We will carry on by colouring the numeric values based on a user selected value."
   ]
  },
  {
   "cell_type": "code",
   "execution_count": 49,
   "metadata": {},
   "outputs": [],
   "source": [
    "# A useful numeric widget is the BoundedFloatText; \n",
    "# we will give it a min, max and initial value, and the incremental step.\n",
    "bounded_num = widgets.BoundedFloatText(min=0, max=100000, value=5, step=1)"
   ]
  },
  {
   "cell_type": "code",
   "execution_count": 50,
   "metadata": {},
   "outputs": [],
   "source": [
    "# In order to colour the dataframe cells, we will define this function:\n",
    "def colour_ge_value(value, comparison):\n",
    "    if value >= comparison:\n",
    "        return 'color: red'\n",
    "    else:\n",
    "        return 'color: black'"
   ]
  },
  {
   "cell_type": "markdown",
   "metadata": {},
   "source": [
    "- Now we will minimally amend the common_filtering function to:"
   ]
  },
  {
   "cell_type": "code",
   "execution_count": 51,
   "metadata": {},
   "outputs": [],
   "source": [
    "# add new num input parameter:\n",
    "def common_filtering(year, purpose, num):\n",
    "    with output:\n",
    "        # apply the styling by calling the colour_ge_value function for the three numeric columns:\n",
    "        display(common_filter.style.applymap(lambda x: colour_ge_value(x, num), \n",
    "                                             subset=['visits','spend', 'nights']))"
   ]
  },
  {
   "cell_type": "code",
   "execution_count": 52,
   "metadata": {},
   "outputs": [],
   "source": [
    "# The existing event handlers need to be adjusted \n",
    "def dropdown_year_eventhandler(change):\n",
    "    # to pass the bounded_num.value:\n",
    "    common_filtering(change.new, dropdown_purpose.value, bounded_num.value)\n",
    "def dropdown_purpose_eventhandler(change):\n",
    "    common_filtering(dropdown_year.value, change.new, bounded_num.value)"
   ]
  },
  {
   "cell_type": "code",
   "execution_count": 53,
   "metadata": {},
   "outputs": [],
   "source": [
    "# And finally we will plug-in the event handler of the new widget:\n",
    "def bounded_num_eventhandler(change):\n",
    "    common_filtering(dropdown_year.value, dropdown_purpose.value, change.new)\n",
    "bounded_num.observe(bounded_num_eventhandler, names='value')"
   ]
  },
  {
   "cell_type": "markdown",
   "metadata": {},
   "source": [
    "5.pre-plotting-***ALL TOGETHER***"
   ]
  },
  {
   "cell_type": "code",
   "execution_count": 56,
   "metadata": {},
   "outputs": [
    {
     "data": {
      "application/vnd.jupyter.widget-view+json": {
       "model_id": "eb0228581b0a4db5bd67e0ffadbd32d7",
       "version_major": 2,
       "version_minor": 0
      },
      "text/plain": [
       "Dropdown(options=('ALL', 2002, 2003, 2004, 2005, 2006, 2007, 2008, 2009, 2010, 2011, 2012, 2013, 2014, 2015, 2…"
      ]
     },
     "metadata": {},
     "output_type": "display_data"
    },
    {
     "data": {
      "application/vnd.jupyter.widget-view+json": {
       "model_id": "0bd47781532f4392809a5546c13ba792",
       "version_major": 2,
       "version_minor": 0
      },
      "text/plain": [
       "Dropdown(options=('ALL', 'Business', 'Holiday', 'Miscellaneous', 'Study', 'VFR'), value='ALL')"
      ]
     },
     "metadata": {},
     "output_type": "display_data"
    },
    {
     "data": {
      "application/vnd.jupyter.widget-view+json": {
       "model_id": "f7cacb3e79ae4f5ea1c6521732e91db9",
       "version_major": 2,
       "version_minor": 0
      },
      "text/plain": [
       "BoundedFloatText(value=5.0, max=100000.0, step=1.0)"
      ]
     },
     "metadata": {},
     "output_type": "display_data"
    }
   ],
   "source": [
    "# Firstly we need a common output for both dropdowns:\n",
    "output = widgets.Output()\n",
    "\n",
    "# Here are the two dropdowns:\n",
    "dropdown_year = widgets.Dropdown(options = unique_sorted_values_plus_ALL(df_london.year))  # year\n",
    "dropdown_purpose = widgets.Dropdown(options = unique_sorted_values_plus_ALL(df_london.purpose))  # purpose\n",
    "# A useful numeric widget is the BoundedFloatText; \n",
    "# we will give it a min, max and initial value, and the incremental step.\n",
    "bounded_num = widgets.BoundedFloatText(min=0, max=100000, value=5, step=1)\n",
    "\n",
    "def common_filtering(year, purpose, num):\n",
    "    # We are clearing the output\n",
    "    output.clear_output()\n",
    "    # then we check if any of the values is ALL\n",
    "    if (year == ALL) & (purpose == ALL):\n",
    "        # in which case we consider that the respective filter is removed.\n",
    "        common_filter = df_london\n",
    "    elif (year == ALL):\n",
    "        # year filter removed\n",
    "        common_filter = df_london[df_london.purpose == purpose]\n",
    "    elif (purpose == ALL):\n",
    "        # purpose filter removed\n",
    "        common_filter = df_london[df_london.year == year]\n",
    "    # When both filters are present\n",
    "    else:\n",
    "        # we apply the & operation in both filters\n",
    "        common_filter = df_london[(df_london.year == year) & \n",
    "                                  (df_london.purpose == purpose)]\n",
    "    with output:\n",
    "        # apply the styling by calling the colour_ge_value function for the three numeric columns:\n",
    "        display(common_filter.style.applymap(lambda x: colour_ge_value(x, num), \n",
    "                                             subset=['visits','spend', 'nights']))\n",
    "        \n",
    "# The existing event handlers need to be adjusted \n",
    "def dropdown_year_eventhandler(change):\n",
    "    # to pass the bounded_num.value:\n",
    "    common_filtering(change.new, dropdown_purpose.value, bounded_num.value)\n",
    "def dropdown_purpose_eventhandler(change):\n",
    "    common_filtering(dropdown_year.value, change.new, bounded_num.value)\n",
    "    \n",
    "# And finally we will plug-in the event handler of the new widget:\n",
    "def bounded_num_eventhandler(change):\n",
    "    common_filtering(dropdown_year.value, dropdown_purpose.value, change.new)\n",
    "    \n",
    "# We bind the handlers to the dropdowns, and that’s it!\n",
    "dropdown_year.observe(dropdown_year_eventhandler, names='value')\n",
    "dropdown_purpose.observe(dropdown_purpose_eventhandler, names='value')\n",
    "bounded_num.observe(bounded_num_eventhandler, names='value')\n",
    "\n",
    "# let's see\n",
    "display(dropdown_year)  # filter by year\n",
    "display(dropdown_purpose)  # filter by purpose\n",
    "display(bounded_num)  # identify visits, spend, nights values > this                    "
   ]
  },
  {
   "cell_type": "code",
   "execution_count": 57,
   "metadata": {},
   "outputs": [
    {
     "data": {
      "application/vnd.jupyter.widget-view+json": {
       "model_id": "6a88599e981a424885ae42c298ba2a5d",
       "version_major": 2,
       "version_minor": 0
      },
      "text/plain": [
       "Output()"
      ]
     },
     "metadata": {},
     "output_type": "display_data"
    }
   ],
   "source": [
    "display(output)"
   ]
  },
  {
   "cell_type": "markdown",
   "metadata": {},
   "source": [
    "### 5. Plotting\n",
    "- Next we will be adding a new graph to plot a basic univariate density of the number of visits (KDE → Kernel Density Estimation). "
   ]
  },
  {
   "cell_type": "code",
   "execution_count": 59,
   "metadata": {},
   "outputs": [],
   "source": [
    "# We will use seaborn, so let’s import the libraries:\n",
    "import seaborn as sns\n",
    "import matplotlib.pyplot as plt"
   ]
  },
  {
   "cell_type": "code",
   "execution_count": 60,
   "metadata": {},
   "outputs": [],
   "source": [
    "# Continuing the previous use-case, we will capture the plot in a new output variable:\n",
    "plot_output = widgets.Output()"
   ]
  },
  {
   "cell_type": "markdown",
   "metadata": {},
   "source": [
    "- We will now amend the common_filtering function to plot the new diagram:"
   ]
  },
  {
   "cell_type": "code",
   "execution_count": 61,
   "metadata": {},
   "outputs": [],
   "source": [
    "# first we clear the output:\n",
    "plot_output.clear_output()"
   ]
  },
  {
   "cell_type": "code",
   "execution_count": 62,
   "metadata": {},
   "outputs": [],
   "source": [
    "# and then we call the kdeplot method of seaborn by passing the number of visits:\n",
    "with plot_output:\n",
    "    sns.kdeplot(common_filter['visits'], shade=True)\n",
    "    plt.show()"
   ]
  },
  {
   "cell_type": "code",
   "execution_count": 63,
   "metadata": {},
   "outputs": [
    {
     "data": {
      "application/vnd.jupyter.widget-view+json": {
       "model_id": "6a88599e981a424885ae42c298ba2a5d",
       "version_major": 2,
       "version_minor": 0
      },
      "text/plain": [
       "Output(outputs=({'output_type': 'display_data', 'data': {'text/plain': '<pandas.io.formats.style.Styler at 0x1…"
      ]
     },
     "metadata": {},
     "output_type": "display_data"
    },
    {
     "data": {
      "application/vnd.jupyter.widget-view+json": {
       "model_id": "b81388fdfb70473d9d76cde936610946",
       "version_major": 2,
       "version_minor": 0
      },
      "text/plain": [
       "Output(outputs=({'output_type': 'error', 'ename': 'NameError', 'evalue': \"name 'common_filter' is not defined\"…"
      ]
     },
     "metadata": {},
     "output_type": "display_data"
    }
   ],
   "source": [
    "# Lastly, the only thing we need to do is to display the outputs in a new cell:\n",
    "display(output)\n",
    "display(plot_output)"
   ]
  },
  {
   "cell_type": "markdown",
   "metadata": {},
   "source": [
    "#### 5. ALL TOGETHER"
   ]
  },
  {
   "cell_type": "code",
   "execution_count": 64,
   "metadata": {},
   "outputs": [
    {
     "data": {
      "application/vnd.jupyter.widget-view+json": {
       "model_id": "666612cce9ba44c5b3f6ba7478f504bc",
       "version_major": 2,
       "version_minor": 0
      },
      "text/plain": [
       "Dropdown(options=('ALL', 2002, 2003, 2004, 2005, 2006, 2007, 2008, 2009, 2010, 2011, 2012, 2013, 2014, 2015, 2…"
      ]
     },
     "metadata": {},
     "output_type": "display_data"
    },
    {
     "data": {
      "application/vnd.jupyter.widget-view+json": {
       "model_id": "36ece5b1148249258b4a567ae1f9d240",
       "version_major": 2,
       "version_minor": 0
      },
      "text/plain": [
       "Dropdown(options=('ALL', 'Business', 'Holiday', 'Miscellaneous', 'Study', 'VFR'), value='ALL')"
      ]
     },
     "metadata": {},
     "output_type": "display_data"
    },
    {
     "data": {
      "application/vnd.jupyter.widget-view+json": {
       "model_id": "4226e15963fb4622a155e3ec803e4427",
       "version_major": 2,
       "version_minor": 0
      },
      "text/plain": [
       "BoundedFloatText(value=5.0, max=100000.0, step=1.0)"
      ]
     },
     "metadata": {},
     "output_type": "display_data"
    }
   ],
   "source": [
    "# Firstly we need a common output for both dropdowns:\n",
    "output = widgets.Output()\n",
    "# Continuing the previous use-case, we will capture the plot in a new output variable:\n",
    "plot_output = widgets.Output()\n",
    "\n",
    "# Here are the two dropdowns:\n",
    "dropdown_year = widgets.Dropdown(options = unique_sorted_values_plus_ALL(df_london.year))  # year\n",
    "dropdown_purpose = widgets.Dropdown(options = unique_sorted_values_plus_ALL(df_london.purpose))  # purpose\n",
    "# A useful numeric widget is the BoundedFloatText; \n",
    "# we will give it a min, max and initial value, and the incremental step.\n",
    "bounded_num = widgets.BoundedFloatText(min=0, max=100000, value=5, step=1)\n",
    "\n",
    "def common_filtering(year, purpose, num):\n",
    "    # We are clearing the output\n",
    "    output.clear_output()\n",
    "    # first we clear the output:\n",
    "    plot_output.clear_output()\n",
    "    # then we check if any of the values is ALL\n",
    "    if (year == ALL) & (purpose == ALL):\n",
    "        # in which case we consider that the respective filter is removed.\n",
    "        common_filter = df_london\n",
    "    elif (year == ALL):\n",
    "        # year filter removed\n",
    "        common_filter = df_london[df_london.purpose == purpose]\n",
    "    elif (purpose == ALL):\n",
    "        # purpose filter removed\n",
    "        common_filter = df_london[df_london.year == year]\n",
    "    # When both filters are present\n",
    "    else:\n",
    "        # we apply the & operation in both filters\n",
    "        common_filter = df_london[(df_london.year == year) & \n",
    "                                  (df_london.purpose == purpose)]\n",
    "    with output:\n",
    "        # apply the styling by calling the colour_ge_value function for the three numeric columns:\n",
    "        display(common_filter.style.applymap(lambda x: colour_ge_value(x, num), \n",
    "                                             subset=['visits','spend', 'nights']))\n",
    "    with plot_output:\n",
    "        # and then we call the kdeplot method of seaborn by passing the number of visits:\n",
    "        sns.kdeplot(common_filter['visits'], shade=True)\n",
    "        plt.show()\n",
    "        \n",
    "# The existing event handlers need to be adjusted \n",
    "def dropdown_year_eventhandler(change):\n",
    "    # to pass the bounded_num.value:\n",
    "    common_filtering(change.new, dropdown_purpose.value, bounded_num.value)\n",
    "def dropdown_purpose_eventhandler(change):\n",
    "    common_filtering(dropdown_year.value, change.new, bounded_num.value)\n",
    "    \n",
    "# And finally we will plug-in the event handler of the new widget:\n",
    "def bounded_num_eventhandler(change):\n",
    "    common_filtering(dropdown_year.value, dropdown_purpose.value, change.new)\n",
    "    \n",
    "# We bind the handlers to the dropdowns, and that’s it!\n",
    "dropdown_year.observe(dropdown_year_eventhandler, names='value')\n",
    "dropdown_purpose.observe(dropdown_purpose_eventhandler, names='value')\n",
    "bounded_num.observe(bounded_num_eventhandler, names='value')\n",
    "\n",
    "# let's see\n",
    "display(dropdown_year)  # filter by year\n",
    "display(dropdown_purpose)  # filter by purpose\n",
    "display(bounded_num)  # identify visits, spend, nights values > this  "
   ]
  },
  {
   "cell_type": "code",
   "execution_count": 71,
   "metadata": {},
   "outputs": [
    {
     "data": {
      "application/vnd.jupyter.widget-view+json": {
       "model_id": "3774523e207248b4a5f1148a6bf003e6",
       "version_major": 2,
       "version_minor": 0
      },
      "text/plain": [
       "Output(outputs=({'output_type': 'display_data', 'data': {'text/plain': '<pandas.io.formats.style.Styler at 0x1…"
      ]
     },
     "metadata": {},
     "output_type": "display_data"
    }
   ],
   "source": [
    "# Lastly, the only thing we need to do is to display the outputs in a new cell:\n",
    "display(output)"
   ]
  },
  {
   "cell_type": "code",
   "execution_count": 72,
   "metadata": {},
   "outputs": [
    {
     "data": {
      "application/vnd.jupyter.widget-view+json": {
       "model_id": "dfd2e67e661a42f2ae6fb77c99ad2146",
       "version_major": 2,
       "version_minor": 0
      },
      "text/plain": [
       "Output(outputs=({'output_type': 'display_data', 'data': {'text/plain': '<Figure size 432x288 with 1 Axes>', 'i…"
      ]
     },
     "metadata": {},
     "output_type": "display_data"
    }
   ],
   "source": [
    "display(plot_output)"
   ]
  },
  {
   "cell_type": "markdown",
   "metadata": {},
   "source": [
    "## ❻ Dashboard Layout\n",
    "- Up until now our user interface is functional but is taking up a lot of real estate.\n",
    "- We will first arrange the input widgets horizontally. "
   ]
  },
  {
   "cell_type": "code",
   "execution_count": 74,
   "metadata": {},
   "outputs": [
    {
     "data": {
      "application/vnd.jupyter.widget-view+json": {
       "model_id": "53e0bc1425a74a2d86a69630a2f0bdd6",
       "version_major": 2,
       "version_minor": 0
      },
      "text/plain": [
       "HBox(children=(Dropdown(index=4, options=('ALL', 2002, 2003, 2004, 2005, 2006, 2007, 2008, 2009, 2010, 2011, 2…"
      ]
     },
     "metadata": {},
     "output_type": "display_data"
    }
   ],
   "source": [
    "# The HBox will add widgets to it one at a time from left-to-right:\n",
    "input_widgets = widgets.HBox([dropdown_year, dropdown_purpose, bounded_num])\n",
    "display(input_widgets)"
   ]
  },
  {
   "cell_type": "code",
   "execution_count": 75,
   "metadata": {},
   "outputs": [
    {
     "data": {
      "application/vnd.jupyter.widget-view+json": {
       "model_id": "366f0d8ca5124a85975c6aa0653d6944",
       "version_major": 2,
       "version_minor": 0
      },
      "text/plain": [
       "Tab(children=(Output(outputs=({'output_type': 'display_data', 'data': {'text/plain': '<pandas.io.formats.style…"
      ]
     },
     "metadata": {},
     "output_type": "display_data"
    }
   ],
   "source": [
    "# Next we will create a container for the output. Tab is great for this. \n",
    "# The 1st tab will host the dataframe and the 2nd one the graph.\n",
    "tab = widgets.Tab([output, plot_output])\n",
    "tab.set_title(0, 'Dataset Exploration')\n",
    "tab.set_title(1, 'KDE Plot')\n",
    "display(tab)"
   ]
  },
  {
   "cell_type": "code",
   "execution_count": 76,
   "metadata": {},
   "outputs": [
    {
     "data": {
      "application/vnd.jupyter.widget-view+json": {
       "model_id": "98f9624d7a414eae8158d08f691d0ccf",
       "version_major": 2,
       "version_minor": 0
      },
      "text/plain": [
       "VBox(children=(HBox(children=(Dropdown(index=4, options=('ALL', 2002, 2003, 2004, 2005, 2006, 2007, 2008, 2009…"
      ]
     },
     "metadata": {},
     "output_type": "display_data"
    }
   ],
   "source": [
    "# Finally we will stack the input widgets and the tab on top of each other with a VBox.\n",
    "dashboard = widgets.VBox([input_widgets, tab])\n",
    "display(dashboard)"
   ]
  },
  {
   "cell_type": "markdown",
   "metadata": {},
   "source": [
    "- It feels a bit ‘jammed’, so as a last step, we will polish our dashboard by adding some space. "
   ]
  },
  {
   "cell_type": "code",
   "execution_count": 80,
   "metadata": {},
   "outputs": [],
   "source": [
    "# We will define a Layout giving 50px margin between the items.\n",
    "item_layout = widgets.Layout(margin='0 0 50px 0')"
   ]
  },
  {
   "cell_type": "code",
   "execution_count": 81,
   "metadata": {},
   "outputs": [],
   "source": [
    "# We will call this layout for each item:\n",
    "input_widgets = widgets.HBox([dropdown_year, dropdown_purpose, bounded_num], \n",
    "                             layout=item_layout)\n",
    "\n",
    "tab = widgets.Tab([output, plot_output], layout=item_layout)\n",
    "tab.set_title(0, 'Dataset Exploration')\n",
    "tab.set_title(1, 'KDE Plot')"
   ]
  },
  {
   "cell_type": "code",
   "execution_count": 82,
   "metadata": {},
   "outputs": [
    {
     "data": {
      "application/vnd.jupyter.widget-view+json": {
       "model_id": "d487c74bae7c46d6b5c149fe9603edc5",
       "version_major": 2,
       "version_minor": 0
      },
      "text/plain": [
       "VBox(children=(HBox(children=(Dropdown(index=17, options=('ALL', 2002, 2003, 2004, 2005, 2006, 2007, 2008, 200…"
      ]
     },
     "metadata": {},
     "output_type": "display_data"
    }
   ],
   "source": [
    "# Finally we will stack the input widgets and the tab on top of each other with a VBox.\n",
    "dashboard = widgets.VBox([input_widgets, tab])\n",
    "display(dashboard)"
   ]
  }
 ],
 "metadata": {
  "kernelspec": {
   "display_name": "Python 3",
   "language": "python",
   "name": "python3"
  },
  "language_info": {
   "codemirror_mode": {
    "name": "ipython",
    "version": 3
   },
   "file_extension": ".py",
   "mimetype": "text/x-python",
   "name": "python",
   "nbconvert_exporter": "python",
   "pygments_lexer": "ipython3",
   "version": "3.7.3"
  }
 },
 "nbformat": 4,
 "nbformat_minor": 4
}
